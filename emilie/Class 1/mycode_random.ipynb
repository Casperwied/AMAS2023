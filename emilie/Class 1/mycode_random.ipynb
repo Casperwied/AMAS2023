{
 "cells": [
  {
   "cell_type": "code",
   "execution_count": 5,
   "metadata": {},
   "outputs": [],
   "source": [
    "import numpy as np\n",
    "import matplotlib.pyplot as plt\n",
    "import time"
   ]
  },
  {
   "cell_type": "code",
   "execution_count": 7,
   "metadata": {},
   "outputs": [
    {
     "name": "stdout",
     "output_type": "stream",
     "text": [
      "0.0007970333099365234\n",
      "0.005955934524536133\n"
     ]
    },
    {
     "data": {
      "text/plain": [
       "(array([1.0000e+00, 1.3000e+01, 5.3000e+01, 2.2100e+02, 6.6000e+02,\n",
       "        1.9900e+03, 4.3250e+03, 8.3350e+03, 1.2950e+04, 1.6002e+04,\n",
       "        1.7239e+04, 1.5212e+04, 1.1061e+04, 6.6870e+03, 3.2680e+03,\n",
       "        1.3820e+03, 4.3200e+02, 1.2900e+02, 3.7000e+01, 3.0000e+00]),\n",
       " array([-4.51668867, -4.078904  , -3.64111932, -3.20333464, -2.76554997,\n",
       "        -2.32776529, -1.88998062, -1.45219594, -1.01441126, -0.57662659,\n",
       "        -0.13884191,  0.29894277,  0.73672744,  1.17451212,  1.61229679,\n",
       "         2.05008147,  2.48786615,  2.92565082,  3.3634355 ,  3.80122018,\n",
       "         4.23900485]),\n",
       " <a list of 20 Patch objects>)"
      ]
     },
     "execution_count": 7,
     "metadata": {},
     "output_type": "execute_result"
    },
    {
     "data": {
      "image/png": "[encoded data removed]",
      "text/plain": [
       "<Figure size 432x288 with 1 Axes>"
      ]
     },
     "metadata": {
      "needs_background": "light"
     },
     "output_type": "display_data"
    }
   ],
   "source": [
    "t0 = time.time()\n",
    "ran = np.random.normal(0,1,10**4)\n",
    "t1 = time.time()\n",
    "ran = np.random.normal(0,1,10**5)\n",
    "t2 = time.time()\n",
    "\n",
    "print(t1-t0)\n",
    "print(t2-t0)\n",
    "\n",
    "plt.hist(ran, bins = 20)\n"
   ]
  },
  {
   "cell_type": "code",
   "execution_count": 60,
   "metadata": {},
   "outputs": [],
   "source": [
    "radii = 5.2\n",
    "#min = - (radii + 0.1)\n",
    "min = 0\n",
    "max = radii + 0.1\n",
    "iterations = 100\n",
    "tests = 1000\n",
    "\n",
    "def circle_func(radii, min, max, iterations):\n",
    "    x_acc, y_acc, x_rej, y_rej = [], [], [], []\n",
    "    for i in range(iterations):\n",
    "        x = np.random.uniform(min,max)\n",
    "        y = np.random.uniform(min,max)\n",
    "\n",
    "        if np.hypot(x,y) <= radii:\n",
    "            x_acc.append(x)\n",
    "            y_acc.append(y)\n",
    "        else: \n",
    "            x_rej.append(x)\n",
    "            y_rej.append(y)\n",
    "    area = (len(x_acc)/iterations)*(max**2)*4\n",
    "    pi = area/(radii**2)\n",
    "    return area, pi\n",
    "\n",
    "    "
   ]
  },
  {
   "cell_type": "code",
   "execution_count": 62,
   "metadata": {},
   "outputs": [],
   "source": [
    "area_list = []\n",
    "for i in range(tests):\n",
    "    area = circle_func(radii, min, max, iterations)[0]\n",
    "    area_list.append(area)\n",
    "\n"
   ]
  },
  {
   "cell_type": "code",
   "execution_count": 80,
   "metadata": {},
   "outputs": [
    {
     "data": {
      "image/png": "[encoded data removed]",
      "text/plain": [
       "<Figure size 432x288 with 1 Axes>"
      ]
     },
     "metadata": {
      "needs_background": "light"
     },
     "output_type": "display_data"
    }
   ],
   "source": [
    "def specify_binwidth(data, binwidth):\n",
    "    Nbins = int((np.max(data)-np.min(data))/binwidth)\n",
    "    return Nbins\n",
    "    \n",
    "\n",
    "plt.hist(area_list, bins = specify_binwidth(area_list, 0.1), label='binwidth = 0.1', histtype = 'step', color = 'red')\n",
    "plt.hist(area_list, bins = specify_binwidth(area_list, 1), label='binwidth = 1', histtype = 'step', color = 'pink')\n",
    "plt.hist(area_list, bins = specify_binwidth(area_list, 3), label='binwidth = 3', histtype = 'step', color = 'purple')\n",
    "plt.legend(loc='upper right')\n",
    "plt.show()"
   ]
  },
  {
   "cell_type": "code",
   "execution_count": 77,
   "metadata": {},
   "outputs": [
    {
     "data": {
      "image/png": "[encoded data removed]",
      "text/plain": [
       "<Figure size 432x288 with 1 Axes>"
      ]
     },
     "metadata": {
      "needs_background": "light"
     },
     "output_type": "display_data"
    }
   ],
   "source": [
    "throws = [10, 100, 1000, 10000, 100000]\n",
    "pi_list = []\n",
    "for i in throws:\n",
    "    pi = circle_func(radii, min, max, i)[1]\n",
    "    pi_list.append(pi)\n",
    "  \n",
    "fig, ax = plt.subplots()\n",
    "ax.scatter(throws,pi_list, label='pi estimate', color = 'b')\n",
    "ax.hlines(np.pi, 0, np.max(throws))\n",
    "ax.set_xscale('log')\n",
    "ax.legend(loc = 'best')\n",
    "plt.show()"
   ]
  },
  {
   "cell_type": "code",
   "execution_count": null,
   "metadata": {},
   "outputs": [],
   "source": []
  }
 ],
 "metadata": {
  "kernelspec": {
   "display_name": "Python 3.8.3 ('base')",
   "language": "python",
   "name": "python3"
  },
  "language_info": {
   "codemirror_mode": {
    "name": "ipython",
    "version": 3
   },
   "file_extension": ".py",
   "mimetype": "text/x-python",
   "name": "python",
   "nbconvert_exporter": "python",
   "pygments_lexer": "ipython3",
   "version": "3.8.3"
  },
  "orig_nbformat": 4,
  "vscode": {
   "interpreter": {
    "hash": "7692e28dfe94dd5fa0eb4855b8b67994966cfb84a9926b0fed7d0ceb95feffd1"
   }
  }
 },
 "nbformat": 4,
 "nbformat_minor": 2
}
