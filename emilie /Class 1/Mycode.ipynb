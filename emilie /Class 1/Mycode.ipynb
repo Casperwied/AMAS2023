{
 "cells": [
  {
   "cell_type": "code",
   "execution_count": 79,
   "metadata": {},
   "outputs": [],
   "source": [
    "##############################\n",
    "# D. Jason Koskinen\n",
    "# Dec. 22, 2015\n",
    "#\n",
    "# The exercise here in is to take a txt file\n",
    "# and read in multiple data sets of X and Y\n",
    "# input and calculate basic statitics quantities.\n",
    "#\n",
    "# Do everything in normal python arrays and then\n",
    "# use the numpy converter to put the data into\n",
    "# numpy arrays. Why? Because numpy arrays are hard.\n",
    "#\n",
    "# The data set is somehwat of a classic in statistics\n",
    "# and is known as Anscombe's quartet.\n",
    "##############################\n",
    "\n",
    "# first dataset if needed for testing\n",
    "x_ = [10, 8, 13, 9, 11, 14, 6, 4, 12, 7, 5]\n",
    "y_ = [8.04, 6.95, 7.58, 8.81, 8.33, 9.96, 7.24, 4.26, 10.84, 4.82, 5.68]\n",
    "\n",
    "import io\n",
    "import numpy as np\n",
    "import scipy as sp\n",
    "from scipy import stats as stats\n",
    "\n",
    "infile = io.open(\"/Users/emilieelisabethmilannielsen/Documents/Uni/4. år/Advanced Applied Statistics/AMAS/Class 1/FranksNumbers.txt\")\n",
    "\n",
    "# Making an empty array to fill with arrays. Normally\n",
    "# arrays of arrays is a bad sign, but it will work out fine this time.\n",
    "\n",
    "metaArray = []\n"
   ]
  },
  {
   "cell_type": "code",
   "execution_count": 80,
   "metadata": {},
   "outputs": [
    {
     "name": "stdout",
     "output_type": "stream",
     "text": [
      "[list([[10.0, 8.04], [8.0, 6.95], [13.0, 7.58], [9.0, 8.81], [11.0, 8.33], [14.0, 9.96], [6.0, 7.24], [4.0, 4.26], [12.0, 10.84], [7.0, 4.82], [5.0, 5.68]])\n",
      " list([[10.0, 9.14], [8.0, 8.14], [13.0, 8.74], [9.0, 8.77], [11.0, 9.26], [14.0, 8.1], [6.0, 6.13], [4.0, 3.1], [12.0, 9.13], [7.0, 7.26], [5.0, 4.74]])\n",
      " list([[10.0, 7.46], [8.0, 6.77], [13.0, 12.74], [9.0, 7.11], [11.0, 7.81], [14.0, 8.84], [6.0, 6.08], [4.0, 5.39], [12.0, 8.15], [7.0, 6.42], [5.0, 5.73]])\n",
      " list([[8.0, 6.58], [8.0, 5.76], [8.0, 7.71], [8.0, 8.84], [8.0, 8.47], [8.0, 7.04], [8.0, 5.25], [19.0, 12.5], [8.0, 5.56], [8.0, 7.91], [8.0, 6.89]])\n",
      " list([[8.0, 6.58], [8.0, 5.76], [8.0, 7.71], [8.0, 8.84], [8.0, 8.47], [8.0, 7.04], [8.0, 5.25], [19.0, 12.5], [8.0, 5.56], [8.0, 7.91], [8.0, 6.89], [10.0, 7.46], [8.0, 6.77], [13.0, 12.74], [9.0, 7.11], [11.0, 7.81], [14.0, 8.84], [6.0, 6.08], [4.0, 5.39], [12.0, 8.15], [7.0, 6.42], [5.0, 5.73], [10.0, 9.14], [8.0, 8.14], [13.0, 8.74], [9.0, 8.77], [11.0, 9.26], [14.0, 8.1], [6.0, 6.13], [4.0, 3.1], [12.0, 9.13], [7.0, 7.26], [5.0, 4.74], [10.0, 8.04], [8.0, 6.95], [13.0, 7.58], [9.0, 8.81], [11.0, 8.33], [14.0, 9.96], [6.0, 7.24], [4.0, 4.26], [12.0, 10.84], [7.0, 4.82], [5.0, 5.68]])]\n"
     ]
    }
   ],
   "source": [
    "\n",
    "for line in infile.readlines():\n",
    "    splLine = line.split() # splitter data sættet linje for linje\n",
    "    if len(splLine) == 3: # de datasæt der tal har længden to da de består af to tal, overskifterne hedder \"data sæt #\", så de har længden 3 \n",
    "        metaArray.append([]) # så det er her vi appender en ny liste\n",
    "    if len(splLine) == 0 or (not splLine[0].isdigit()):\n",
    "        continue\n",
    "    # end not if\n",
    "    \n",
    "    # read in from text is generally a string so make sure\n",
    "    # to explicitly cast the variable as a float\n",
    "    \n",
    "    x = float(splLine[0])\n",
    "    y = float(splLine[1])\n",
    "    metaArray[-1].append([x,y])\n",
    "    \n",
    "# end for line\n",
    "\n",
    "# Convert the array of arrays into\n",
    "# a numpy array so that nice calculations\n",
    "# can be made with ease.\n",
    "    \n",
    "a = np.asarray(metaArray, dtype = object)\n",
    "\n",
    "print(a)"
   ]
  },
  {
   "cell_type": "code",
   "execution_count": 91,
   "metadata": {},
   "outputs": [
    {
     "name": "stdout",
     "output_type": "stream",
     "text": [
      "[10.0, 8.04]\n"
     ]
    }
   ],
   "source": [
    "print(a[0][0][0])"
   ]
  },
  {
   "cell_type": "code",
   "execution_count": 64,
   "metadata": {},
   "outputs": [
    {
     "name": "stdout",
     "output_type": "stream",
     "text": [
      "5\n"
     ]
    }
   ],
   "source": [
    "print(len(a))"
   ]
  },
  {
   "cell_type": "code",
   "execution_count": 96,
   "metadata": {},
   "outputs": [
    {
     "name": "stdout",
     "output_type": "stream",
     "text": [
      "7.50090909090909\n",
      "7.50090909090909\n",
      "3.74840826446281\n",
      "4.12324909090909\n"
     ]
    }
   ],
   "source": [
    "np.mean(a[3], axis=0)[1] # arithmic mean\n",
    "np.average(a[3], axis=0)[1] # algebraic mean\n",
    "np.var(a[3], axis=0, ddof=0)[1] # biased variance\n",
    "np.var(a[3], axis=0, ddof=1)[1] # unbiased variance\n",
    "\n",
    "print(np.mean(a[3], axis=0)[1]) # arithmic mean\n",
    "print(np.average(a[3], axis=0)[1]) # algebraic mean\n",
    "print(np.var(a[3], axis=0, ddof=0)[1]) # biased variance\n",
    "print(np.var(a[3], axis=0, ddof=1)[1]) # unbiased variance"
   ]
  },
  {
   "cell_type": "code",
   "execution_count": 97,
   "metadata": {},
   "outputs": [
    {
     "name": "stdout",
     "output_type": "stream",
     "text": [
      "[[10.0, 8.04], [8.0, 6.95], [13.0, 7.58], [9.0, 8.81], [11.0, 8.33], [14.0, 9.96], [6.0, 7.24], [4.0, 4.26], [12.0, 10.84], [7.0, 4.82], [5.0, 5.68]]\n"
     ]
    }
   ],
   "source": [
    "print(a[0])"
   ]
  },
  {
   "cell_type": "code",
   "execution_count": null,
   "metadata": {},
   "outputs": [],
   "source": []
  }
 ],
 "metadata": {
  "kernelspec": {
   "display_name": "Python 3.8.3 ('base')",
   "language": "python",
   "name": "python3"
  },
  "language_info": {
   "codemirror_mode": {
    "name": "ipython",
    "version": 3
   },
   "file_extension": ".py",
   "mimetype": "text/x-python",
   "name": "python",
   "nbconvert_exporter": "python",
   "pygments_lexer": "ipython3",
   "version": "3.8.3 (default, Jul  2 2020, 11:26:31) \n[Clang 10.0.0 ]"
  },
  "orig_nbformat": 4,
  "vscode": {
   "interpreter": {
    "hash": "7692e28dfe94dd5fa0eb4855b8b67994966cfb84a9926b0fed7d0ceb95feffd1"
   }
  }
 },
 "nbformat": 4,
 "nbformat_minor": 2
}
