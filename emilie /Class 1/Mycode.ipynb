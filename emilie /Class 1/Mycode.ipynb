{
 "cells": [
  {
   "cell_type": "code",
   "execution_count": 55,
   "metadata": {},
   "outputs": [],
   "source": [
    "##############################\n",
    "# D. Jason Koskinen\n",
    "# Dec. 22, 2015\n",
    "#\n",
    "# The exercise herein is to take a txt file\n",
    "# and read in multiple data sets of X and Y\n",
    "# input and calculate basic statitics quantities.\n",
    "#\n",
    "# Do everything in normal python arrays and then\n",
    "# use the numpy converter to put the data into\n",
    "# numpy arrays. Why? Because numpy arrays are hard.\n",
    "#\n",
    "# The data set is somehwat of a classic in statistics\n",
    "# and is known as Anscombe's quartet.\n",
    "##############################\n",
    "\n",
    "import io\n",
    "import numpy as np\n",
    "import scipy as sp\n",
    "from scipy import stats as stats\n",
    "\n",
    "infile = io.open(\"/Users/emilieelisabethmilannielsen/Documents/Uni/4. år/Advanced Applied Statistics/AMAS/Class 1/FranksNumbers.txt\")\n",
    "\n",
    "# Making an empty array to fill with arrays. Normally\n",
    "# arrays of arrays is a bad sign, but it will work out fine this time.\n",
    "\n",
    "metaArray = []\n"
   ]
  },
  {
   "cell_type": "code",
   "execution_count": 56,
   "metadata": {},
   "outputs": [],
   "source": [
    "\n",
    "for line in infile.readlines():\n",
    "    splLine = line.split() # splitter data sættet linje for linje\n",
    "    if len(splLine) == 3: # de datasæt der tal har længden to da de består af to tal, overskifterne hedder \"data sæt #\", så de har længden 3 \n",
    "        metaArray.append([]) # så det er her vi appender en ny liste\n",
    "    if len(splLine) == 0 or (not splLine[0].isdigit()):\n",
    "        continue\n",
    "    # end not if\n",
    "    \n",
    "    # read in from text is generally a string so make sure\n",
    "    # to explicitly cast the variable as a float\n",
    "    \n",
    "    x = float(splLine[0])\n",
    "    y = float(splLine[1])\n",
    "    metaArray[-1].append([x,y])\n",
    "# end for line\n",
    "\n",
    "# Convert the array of arrays into\n",
    "# a numpy array so that nice calculations\n",
    "# can be made with ease.\n",
    "    \n",
    "a = np.asarray(metaArray, dtype = object)\n",
    "\n",
    "#print(a)"
   ]
  },
  {
   "cell_type": "code",
   "execution_count": 41,
   "metadata": {},
   "outputs": [
    {
     "name": "stdout",
     "output_type": "stream",
     "text": [
      "10.0\n"
     ]
    }
   ],
   "source": [
    "print(a[0][0][0])"
   ]
  },
  {
   "cell_type": "code",
   "execution_count": null,
   "metadata": {},
   "outputs": [],
   "source": []
  }
 ],
 "metadata": {
  "kernelspec": {
   "display_name": "Python 3.8.3 ('base')",
   "language": "python",
   "name": "python3"
  },
  "language_info": {
   "codemirror_mode": {
    "name": "ipython",
    "version": 3
   },
   "file_extension": ".py",
   "mimetype": "text/x-python",
   "name": "python",
   "nbconvert_exporter": "python",
   "pygments_lexer": "ipython3",
   "version": "3.8.3"
  },
  "orig_nbformat": 4,
  "vscode": {
   "interpreter": {
    "hash": "7692e28dfe94dd5fa0eb4855b8b67994966cfb84a9926b0fed7d0ceb95feffd1"
   }
  }
 },
 "nbformat": 4,
 "nbformat_minor": 2
}
